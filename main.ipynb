{
 "cells": [
  {
   "cell_type": "code",
   "execution_count": 2,
   "id": "initial_id",
   "metadata": {
    "ExecuteTime": {
     "end_time": "2025-09-21T19:14:12.566704Z",
     "start_time": "2025-09-21T19:14:12.561284Z"
    },
    "collapsed": true
   },
   "outputs": [],
   "source": [
    "import pandas as pd\n",
    "import matplotlib.pyplot as plt\n",
    "import seaborn as sns"
   ]
  },
  {
   "cell_type": "code",
   "execution_count": 3,
   "id": "c054b24e0351ae4c",
   "metadata": {
    "ExecuteTime": {
     "end_time": "2025-09-21T19:14:26.383495Z",
     "start_time": "2025-09-21T19:14:26.358276Z"
    }
   },
   "outputs": [
    {
     "data": {
      "application/vnd.microsoft.datawrangler.viewer.v0+json": {
       "columns": [
        {
         "name": "index",
         "rawType": "int64",
         "type": "integer"
        },
        {
         "name": "Transaction ID",
         "rawType": "int64",
         "type": "integer"
        },
        {
         "name": "Date",
         "rawType": "object",
         "type": "string"
        },
        {
         "name": "Customer ID",
         "rawType": "object",
         "type": "string"
        },
        {
         "name": "Gender",
         "rawType": "object",
         "type": "string"
        },
        {
         "name": "Age",
         "rawType": "int64",
         "type": "integer"
        },
        {
         "name": "Product Category",
         "rawType": "object",
         "type": "string"
        },
        {
         "name": "Quantity",
         "rawType": "int64",
         "type": "integer"
        },
        {
         "name": "Price per Unit",
         "rawType": "int64",
         "type": "integer"
        },
        {
         "name": "Total Amount",
         "rawType": "int64",
         "type": "integer"
        }
       ],
       "ref": "a1762cd1-ffad-4b03-b332-4b475a229652",
       "rows": [
        [
         "0",
         "1",
         "2023-11-24",
         "CUST001",
         "Male",
         "34",
         "Beauty",
         "3",
         "50",
         "150"
        ],
        [
         "1",
         "2",
         "2023-02-27",
         "CUST002",
         "Female",
         "26",
         "Clothing",
         "2",
         "500",
         "1000"
        ],
        [
         "2",
         "3",
         "2023-01-13",
         "CUST003",
         "Male",
         "50",
         "Electronics",
         "1",
         "30",
         "30"
        ],
        [
         "3",
         "4",
         "2023-05-21",
         "CUST004",
         "Male",
         "37",
         "Clothing",
         "1",
         "500",
         "500"
        ],
        [
         "4",
         "5",
         "2023-05-06",
         "CUST005",
         "Male",
         "30",
         "Beauty",
         "2",
         "50",
         "100"
        ]
       ],
       "shape": {
        "columns": 9,
        "rows": 5
       }
      },
      "text/html": [
       "<div>\n",
       "<style scoped>\n",
       "    .dataframe tbody tr th:only-of-type {\n",
       "        vertical-align: middle;\n",
       "    }\n",
       "\n",
       "    .dataframe tbody tr th {\n",
       "        vertical-align: top;\n",
       "    }\n",
       "\n",
       "    .dataframe thead th {\n",
       "        text-align: right;\n",
       "    }\n",
       "</style>\n",
       "<table border=\"1\" class=\"dataframe\">\n",
       "  <thead>\n",
       "    <tr style=\"text-align: right;\">\n",
       "      <th></th>\n",
       "      <th>Transaction ID</th>\n",
       "      <th>Date</th>\n",
       "      <th>Customer ID</th>\n",
       "      <th>Gender</th>\n",
       "      <th>Age</th>\n",
       "      <th>Product Category</th>\n",
       "      <th>Quantity</th>\n",
       "      <th>Price per Unit</th>\n",
       "      <th>Total Amount</th>\n",
       "    </tr>\n",
       "  </thead>\n",
       "  <tbody>\n",
       "    <tr>\n",
       "      <th>0</th>\n",
       "      <td>1</td>\n",
       "      <td>2023-11-24</td>\n",
       "      <td>CUST001</td>\n",
       "      <td>Male</td>\n",
       "      <td>34</td>\n",
       "      <td>Beauty</td>\n",
       "      <td>3</td>\n",
       "      <td>50</td>\n",
       "      <td>150</td>\n",
       "    </tr>\n",
       "    <tr>\n",
       "      <th>1</th>\n",
       "      <td>2</td>\n",
       "      <td>2023-02-27</td>\n",
       "      <td>CUST002</td>\n",
       "      <td>Female</td>\n",
       "      <td>26</td>\n",
       "      <td>Clothing</td>\n",
       "      <td>2</td>\n",
       "      <td>500</td>\n",
       "      <td>1000</td>\n",
       "    </tr>\n",
       "    <tr>\n",
       "      <th>2</th>\n",
       "      <td>3</td>\n",
       "      <td>2023-01-13</td>\n",
       "      <td>CUST003</td>\n",
       "      <td>Male</td>\n",
       "      <td>50</td>\n",
       "      <td>Electronics</td>\n",
       "      <td>1</td>\n",
       "      <td>30</td>\n",
       "      <td>30</td>\n",
       "    </tr>\n",
       "    <tr>\n",
       "      <th>3</th>\n",
       "      <td>4</td>\n",
       "      <td>2023-05-21</td>\n",
       "      <td>CUST004</td>\n",
       "      <td>Male</td>\n",
       "      <td>37</td>\n",
       "      <td>Clothing</td>\n",
       "      <td>1</td>\n",
       "      <td>500</td>\n",
       "      <td>500</td>\n",
       "    </tr>\n",
       "    <tr>\n",
       "      <th>4</th>\n",
       "      <td>5</td>\n",
       "      <td>2023-05-06</td>\n",
       "      <td>CUST005</td>\n",
       "      <td>Male</td>\n",
       "      <td>30</td>\n",
       "      <td>Beauty</td>\n",
       "      <td>2</td>\n",
       "      <td>50</td>\n",
       "      <td>100</td>\n",
       "    </tr>\n",
       "  </tbody>\n",
       "</table>\n",
       "</div>"
      ],
      "text/plain": [
       "   Transaction ID        Date Customer ID  Gender  Age Product Category  \\\n",
       "0               1  2023-11-24     CUST001    Male   34           Beauty   \n",
       "1               2  2023-02-27     CUST002  Female   26         Clothing   \n",
       "2               3  2023-01-13     CUST003    Male   50      Electronics   \n",
       "3               4  2023-05-21     CUST004    Male   37         Clothing   \n",
       "4               5  2023-05-06     CUST005    Male   30           Beauty   \n",
       "\n",
       "   Quantity  Price per Unit  Total Amount  \n",
       "0         3              50           150  \n",
       "1         2             500          1000  \n",
       "2         1              30            30  \n",
       "3         1             500           500  \n",
       "4         2              50           100  "
      ]
     },
     "execution_count": 3,
     "metadata": {},
     "output_type": "execute_result"
    }
   ],
   "source": [
    "df=pd.read_csv('retail_sales_dataset.csv')\n",
    "df.head()"
   ]
  },
  {
   "cell_type": "code",
   "execution_count": 4,
   "id": "588f853cfd03edf7",
   "metadata": {
    "ExecuteTime": {
     "end_time": "2025-09-21T19:14:38.507683Z",
     "start_time": "2025-09-21T19:14:38.495680Z"
    }
   },
   "outputs": [
    {
     "name": "stdout",
     "output_type": "stream",
     "text": [
      "<class 'pandas.core.frame.DataFrame'>\n",
      "RangeIndex: 1000 entries, 0 to 999\n",
      "Data columns (total 9 columns):\n",
      " #   Column            Non-Null Count  Dtype \n",
      "---  ------            --------------  ----- \n",
      " 0   Transaction ID    1000 non-null   int64 \n",
      " 1   Date              1000 non-null   object\n",
      " 2   Customer ID       1000 non-null   object\n",
      " 3   Gender            1000 non-null   object\n",
      " 4   Age               1000 non-null   int64 \n",
      " 5   Product Category  1000 non-null   object\n",
      " 6   Quantity          1000 non-null   int64 \n",
      " 7   Price per Unit    1000 non-null   int64 \n",
      " 8   Total Amount      1000 non-null   int64 \n",
      "dtypes: int64(5), object(4)\n",
      "memory usage: 70.4+ KB\n"
     ]
    }
   ],
   "source": [
    "df.info()"
   ]
  },
  {
   "cell_type": "code",
   "execution_count": 5,
   "id": "1545fcbe15e9aa6",
   "metadata": {
    "ExecuteTime": {
     "end_time": "2025-09-21T19:15:20.871888Z",
     "start_time": "2025-09-21T19:15:20.851304Z"
    }
   },
   "outputs": [
    {
     "data": {
      "application/vnd.microsoft.datawrangler.viewer.v0+json": {
       "columns": [
        {
         "name": "index",
         "rawType": "object",
         "type": "string"
        },
        {
         "name": "Transaction ID",
         "rawType": "float64",
         "type": "float"
        },
        {
         "name": "Age",
         "rawType": "float64",
         "type": "float"
        },
        {
         "name": "Quantity",
         "rawType": "float64",
         "type": "float"
        },
        {
         "name": "Price per Unit",
         "rawType": "float64",
         "type": "float"
        },
        {
         "name": "Total Amount",
         "rawType": "float64",
         "type": "float"
        }
       ],
       "ref": "e10dbc42-5a25-4c08-b80c-1aaad80204dc",
       "rows": [
        [
         "count",
         "1000.0",
         "1000.0",
         "1000.0",
         "1000.0",
         "1000.0"
        ],
        [
         "mean",
         "500.5",
         "41.392",
         "2.514",
         "179.89",
         "456.0"
        ],
        [
         "std",
         "288.8194360957494",
         "13.681429659122527",
         "1.1327343409145356",
         "189.68135627129232",
         "559.997631555123"
        ],
        [
         "min",
         "1.0",
         "18.0",
         "1.0",
         "25.0",
         "25.0"
        ],
        [
         "25%",
         "250.75",
         "29.0",
         "1.0",
         "30.0",
         "60.0"
        ],
        [
         "50%",
         "500.5",
         "42.0",
         "3.0",
         "50.0",
         "135.0"
        ],
        [
         "75%",
         "750.25",
         "53.0",
         "4.0",
         "300.0",
         "900.0"
        ],
        [
         "max",
         "1000.0",
         "64.0",
         "4.0",
         "500.0",
         "2000.0"
        ]
       ],
       "shape": {
        "columns": 5,
        "rows": 8
       }
      },
      "text/html": [
       "<div>\n",
       "<style scoped>\n",
       "    .dataframe tbody tr th:only-of-type {\n",
       "        vertical-align: middle;\n",
       "    }\n",
       "\n",
       "    .dataframe tbody tr th {\n",
       "        vertical-align: top;\n",
       "    }\n",
       "\n",
       "    .dataframe thead th {\n",
       "        text-align: right;\n",
       "    }\n",
       "</style>\n",
       "<table border=\"1\" class=\"dataframe\">\n",
       "  <thead>\n",
       "    <tr style=\"text-align: right;\">\n",
       "      <th></th>\n",
       "      <th>Transaction ID</th>\n",
       "      <th>Age</th>\n",
       "      <th>Quantity</th>\n",
       "      <th>Price per Unit</th>\n",
       "      <th>Total Amount</th>\n",
       "    </tr>\n",
       "  </thead>\n",
       "  <tbody>\n",
       "    <tr>\n",
       "      <th>count</th>\n",
       "      <td>1000.000000</td>\n",
       "      <td>1000.00000</td>\n",
       "      <td>1000.000000</td>\n",
       "      <td>1000.000000</td>\n",
       "      <td>1000.000000</td>\n",
       "    </tr>\n",
       "    <tr>\n",
       "      <th>mean</th>\n",
       "      <td>500.500000</td>\n",
       "      <td>41.39200</td>\n",
       "      <td>2.514000</td>\n",
       "      <td>179.890000</td>\n",
       "      <td>456.000000</td>\n",
       "    </tr>\n",
       "    <tr>\n",
       "      <th>std</th>\n",
       "      <td>288.819436</td>\n",
       "      <td>13.68143</td>\n",
       "      <td>1.132734</td>\n",
       "      <td>189.681356</td>\n",
       "      <td>559.997632</td>\n",
       "    </tr>\n",
       "    <tr>\n",
       "      <th>min</th>\n",
       "      <td>1.000000</td>\n",
       "      <td>18.00000</td>\n",
       "      <td>1.000000</td>\n",
       "      <td>25.000000</td>\n",
       "      <td>25.000000</td>\n",
       "    </tr>\n",
       "    <tr>\n",
       "      <th>25%</th>\n",
       "      <td>250.750000</td>\n",
       "      <td>29.00000</td>\n",
       "      <td>1.000000</td>\n",
       "      <td>30.000000</td>\n",
       "      <td>60.000000</td>\n",
       "    </tr>\n",
       "    <tr>\n",
       "      <th>50%</th>\n",
       "      <td>500.500000</td>\n",
       "      <td>42.00000</td>\n",
       "      <td>3.000000</td>\n",
       "      <td>50.000000</td>\n",
       "      <td>135.000000</td>\n",
       "    </tr>\n",
       "    <tr>\n",
       "      <th>75%</th>\n",
       "      <td>750.250000</td>\n",
       "      <td>53.00000</td>\n",
       "      <td>4.000000</td>\n",
       "      <td>300.000000</td>\n",
       "      <td>900.000000</td>\n",
       "    </tr>\n",
       "    <tr>\n",
       "      <th>max</th>\n",
       "      <td>1000.000000</td>\n",
       "      <td>64.00000</td>\n",
       "      <td>4.000000</td>\n",
       "      <td>500.000000</td>\n",
       "      <td>2000.000000</td>\n",
       "    </tr>\n",
       "  </tbody>\n",
       "</table>\n",
       "</div>"
      ],
      "text/plain": [
       "       Transaction ID         Age     Quantity  Price per Unit  Total Amount\n",
       "count     1000.000000  1000.00000  1000.000000     1000.000000   1000.000000\n",
       "mean       500.500000    41.39200     2.514000      179.890000    456.000000\n",
       "std        288.819436    13.68143     1.132734      189.681356    559.997632\n",
       "min          1.000000    18.00000     1.000000       25.000000     25.000000\n",
       "25%        250.750000    29.00000     1.000000       30.000000     60.000000\n",
       "50%        500.500000    42.00000     3.000000       50.000000    135.000000\n",
       "75%        750.250000    53.00000     4.000000      300.000000    900.000000\n",
       "max       1000.000000    64.00000     4.000000      500.000000   2000.000000"
      ]
     },
     "execution_count": 5,
     "metadata": {},
     "output_type": "execute_result"
    }
   ],
   "source": [
    "df.describe()"
   ]
  },
  {
   "cell_type": "code",
   "execution_count": 6,
   "id": "7807dd25f4780909",
   "metadata": {
    "ExecuteTime": {
     "end_time": "2025-09-21T19:15:48.872074Z",
     "start_time": "2025-09-21T19:15:48.865436Z"
    }
   },
   "outputs": [
    {
     "data": {
      "text/plain": [
       "(1000, 9)"
      ]
     },
     "execution_count": 6,
     "metadata": {},
     "output_type": "execute_result"
    }
   ],
   "source": [
    "df.shape"
   ]
  },
  {
   "cell_type": "code",
   "execution_count": 7,
   "id": "4be7d718cda42b30",
   "metadata": {
    "ExecuteTime": {
     "end_time": "2025-09-21T19:16:02.025678Z",
     "start_time": "2025-09-21T19:16:02.015676Z"
    }
   },
   "outputs": [
    {
     "data": {
      "application/vnd.microsoft.datawrangler.viewer.v0+json": {
       "columns": [
        {
         "name": "index",
         "rawType": "object",
         "type": "string"
        },
        {
         "name": "0",
         "rawType": "int64",
         "type": "integer"
        }
       ],
       "ref": "13987075-5cdd-4887-afe4-31eccd1aa625",
       "rows": [
        [
         "Transaction ID",
         "0"
        ],
        [
         "Date",
         "0"
        ],
        [
         "Customer ID",
         "0"
        ],
        [
         "Gender",
         "0"
        ],
        [
         "Age",
         "0"
        ],
        [
         "Product Category",
         "0"
        ],
        [
         "Quantity",
         "0"
        ],
        [
         "Price per Unit",
         "0"
        ],
        [
         "Total Amount",
         "0"
        ]
       ],
       "shape": {
        "columns": 1,
        "rows": 9
       }
      },
      "text/plain": [
       "Transaction ID      0\n",
       "Date                0\n",
       "Customer ID         0\n",
       "Gender              0\n",
       "Age                 0\n",
       "Product Category    0\n",
       "Quantity            0\n",
       "Price per Unit      0\n",
       "Total Amount        0\n",
       "dtype: int64"
      ]
     },
     "execution_count": 7,
     "metadata": {},
     "output_type": "execute_result"
    }
   ],
   "source": [
    "df.isnull().sum()"
   ]
  },
  {
   "cell_type": "code",
   "execution_count": 8,
   "id": "db08949a79b4b569",
   "metadata": {
    "ExecuteTime": {
     "end_time": "2025-09-21T19:17:55.202570Z",
     "start_time": "2025-09-21T19:17:55.193982Z"
    }
   },
   "outputs": [],
   "source": [
    "# Date datetime çevir\n",
    "\n",
    "df['Date']=pd.to_datetime(df['Date'])"
   ]
  },
  {
   "cell_type": "code",
   "execution_count": 9,
   "id": "544ebf1b412e5a13",
   "metadata": {
    "ExecuteTime": {
     "end_time": "2025-09-21T19:18:04.291841Z",
     "start_time": "2025-09-21T19:18:04.280Z"
    }
   },
   "outputs": [
    {
     "name": "stdout",
     "output_type": "stream",
     "text": [
      "<class 'pandas.core.frame.DataFrame'>\n",
      "RangeIndex: 1000 entries, 0 to 999\n",
      "Data columns (total 9 columns):\n",
      " #   Column            Non-Null Count  Dtype         \n",
      "---  ------            --------------  -----         \n",
      " 0   Transaction ID    1000 non-null   int64         \n",
      " 1   Date              1000 non-null   datetime64[ns]\n",
      " 2   Customer ID       1000 non-null   object        \n",
      " 3   Gender            1000 non-null   object        \n",
      " 4   Age               1000 non-null   int64         \n",
      " 5   Product Category  1000 non-null   object        \n",
      " 6   Quantity          1000 non-null   int64         \n",
      " 7   Price per Unit    1000 non-null   int64         \n",
      " 8   Total Amount      1000 non-null   int64         \n",
      "dtypes: datetime64[ns](1), int64(5), object(3)\n",
      "memory usage: 70.4+ KB\n"
     ]
    }
   ],
   "source": [
    "df.info()"
   ]
  },
  {
   "cell_type": "code",
   "execution_count": 10,
   "id": "39522cceebd92e80",
   "metadata": {
    "ExecuteTime": {
     "end_time": "2025-09-21T19:19:17.422928Z",
     "start_time": "2025-09-21T19:19:17.410699Z"
    }
   },
   "outputs": [
    {
     "data": {
      "application/vnd.microsoft.datawrangler.viewer.v0+json": {
       "columns": [
        {
         "name": "index",
         "rawType": "int64",
         "type": "integer"
        },
        {
         "name": "Transaction ID",
         "rawType": "int64",
         "type": "integer"
        },
        {
         "name": "Date",
         "rawType": "datetime64[ns]",
         "type": "datetime"
        },
        {
         "name": "Customer ID",
         "rawType": "object",
         "type": "string"
        },
        {
         "name": "Gender",
         "rawType": "object",
         "type": "string"
        },
        {
         "name": "Age",
         "rawType": "int64",
         "type": "integer"
        },
        {
         "name": "Product Category",
         "rawType": "object",
         "type": "string"
        },
        {
         "name": "Quantity",
         "rawType": "int64",
         "type": "integer"
        },
        {
         "name": "Price per Unit",
         "rawType": "int64",
         "type": "integer"
        },
        {
         "name": "Total Amount",
         "rawType": "int64",
         "type": "integer"
        }
       ],
       "ref": "accb4f10-ec06-4be7-804d-9af4ceae0cd9",
       "rows": [
        [
         "0",
         "1",
         "2023-11-24 00:00:00",
         "CUST001",
         "Male",
         "34",
         "Beauty",
         "3",
         "50",
         "150"
        ],
        [
         "1",
         "2",
         "2023-02-27 00:00:00",
         "CUST002",
         "Female",
         "26",
         "Clothing",
         "2",
         "500",
         "1000"
        ],
        [
         "2",
         "3",
         "2023-01-13 00:00:00",
         "CUST003",
         "Male",
         "50",
         "Electronics",
         "1",
         "30",
         "30"
        ],
        [
         "3",
         "4",
         "2023-05-21 00:00:00",
         "CUST004",
         "Male",
         "37",
         "Clothing",
         "1",
         "500",
         "500"
        ],
        [
         "4",
         "5",
         "2023-05-06 00:00:00",
         "CUST005",
         "Male",
         "30",
         "Beauty",
         "2",
         "50",
         "100"
        ]
       ],
       "shape": {
        "columns": 9,
        "rows": 5
       }
      },
      "text/html": [
       "<div>\n",
       "<style scoped>\n",
       "    .dataframe tbody tr th:only-of-type {\n",
       "        vertical-align: middle;\n",
       "    }\n",
       "\n",
       "    .dataframe tbody tr th {\n",
       "        vertical-align: top;\n",
       "    }\n",
       "\n",
       "    .dataframe thead th {\n",
       "        text-align: right;\n",
       "    }\n",
       "</style>\n",
       "<table border=\"1\" class=\"dataframe\">\n",
       "  <thead>\n",
       "    <tr style=\"text-align: right;\">\n",
       "      <th></th>\n",
       "      <th>Transaction ID</th>\n",
       "      <th>Date</th>\n",
       "      <th>Customer ID</th>\n",
       "      <th>Gender</th>\n",
       "      <th>Age</th>\n",
       "      <th>Product Category</th>\n",
       "      <th>Quantity</th>\n",
       "      <th>Price per Unit</th>\n",
       "      <th>Total Amount</th>\n",
       "    </tr>\n",
       "  </thead>\n",
       "  <tbody>\n",
       "    <tr>\n",
       "      <th>0</th>\n",
       "      <td>1</td>\n",
       "      <td>2023-11-24</td>\n",
       "      <td>CUST001</td>\n",
       "      <td>Male</td>\n",
       "      <td>34</td>\n",
       "      <td>Beauty</td>\n",
       "      <td>3</td>\n",
       "      <td>50</td>\n",
       "      <td>150</td>\n",
       "    </tr>\n",
       "    <tr>\n",
       "      <th>1</th>\n",
       "      <td>2</td>\n",
       "      <td>2023-02-27</td>\n",
       "      <td>CUST002</td>\n",
       "      <td>Female</td>\n",
       "      <td>26</td>\n",
       "      <td>Clothing</td>\n",
       "      <td>2</td>\n",
       "      <td>500</td>\n",
       "      <td>1000</td>\n",
       "    </tr>\n",
       "    <tr>\n",
       "      <th>2</th>\n",
       "      <td>3</td>\n",
       "      <td>2023-01-13</td>\n",
       "      <td>CUST003</td>\n",
       "      <td>Male</td>\n",
       "      <td>50</td>\n",
       "      <td>Electronics</td>\n",
       "      <td>1</td>\n",
       "      <td>30</td>\n",
       "      <td>30</td>\n",
       "    </tr>\n",
       "    <tr>\n",
       "      <th>3</th>\n",
       "      <td>4</td>\n",
       "      <td>2023-05-21</td>\n",
       "      <td>CUST004</td>\n",
       "      <td>Male</td>\n",
       "      <td>37</td>\n",
       "      <td>Clothing</td>\n",
       "      <td>1</td>\n",
       "      <td>500</td>\n",
       "      <td>500</td>\n",
       "    </tr>\n",
       "    <tr>\n",
       "      <th>4</th>\n",
       "      <td>5</td>\n",
       "      <td>2023-05-06</td>\n",
       "      <td>CUST005</td>\n",
       "      <td>Male</td>\n",
       "      <td>30</td>\n",
       "      <td>Beauty</td>\n",
       "      <td>2</td>\n",
       "      <td>50</td>\n",
       "      <td>100</td>\n",
       "    </tr>\n",
       "  </tbody>\n",
       "</table>\n",
       "</div>"
      ],
      "text/plain": [
       "   Transaction ID       Date Customer ID  Gender  Age Product Category  \\\n",
       "0               1 2023-11-24     CUST001    Male   34           Beauty   \n",
       "1               2 2023-02-27     CUST002  Female   26         Clothing   \n",
       "2               3 2023-01-13     CUST003    Male   50      Electronics   \n",
       "3               4 2023-05-21     CUST004    Male   37         Clothing   \n",
       "4               5 2023-05-06     CUST005    Male   30           Beauty   \n",
       "\n",
       "   Quantity  Price per Unit  Total Amount  \n",
       "0         3              50           150  \n",
       "1         2             500          1000  \n",
       "2         1              30            30  \n",
       "3         1             500           500  \n",
       "4         2              50           100  "
      ]
     },
     "execution_count": 10,
     "metadata": {},
     "output_type": "execute_result"
    }
   ],
   "source": [
    "df.head()"
   ]
  },
  {
   "cell_type": "code",
   "execution_count": 11,
   "id": "2db0d62be9df8653",
   "metadata": {
    "ExecuteTime": {
     "end_time": "2025-09-21T19:21:03.843100Z",
     "start_time": "2025-09-21T19:21:03.833756Z"
    }
   },
   "outputs": [],
   "source": [
    "## En çok satan ürün\n",
    "top_products=df.groupby('Product Category')['Quantity'].sum().sort_values(ascending=False).head(10)"
   ]
  },
  {
   "cell_type": "code",
   "execution_count": 12,
   "id": "ab2755897144a6f9",
   "metadata": {
    "ExecuteTime": {
     "end_time": "2025-09-21T19:23:20.654071Z",
     "start_time": "2025-09-21T19:23:20.517938Z"
    }
   },
   "outputs": [
    {
     "data": {
      "image/png": "[encoded data removed]",
      "text/plain": [
       "<Figure size 1000x1000 with 1 Axes>"
      ]
     },
     "metadata": {},
     "output_type": "display_data"
    }
   ],
   "source": [
    "top_products.plot(kind='bar', figsize=(10,10),title='10 en çok satış yapan katagori')\n",
    "plt.show()"
   ]
  },
  {
   "cell_type": "code",
   "execution_count": 13,
   "id": "a5f3e17d86235d6d",
   "metadata": {
    "ExecuteTime": {
     "end_time": "2025-09-21T19:24:06.481446Z",
     "start_time": "2025-09-21T19:24:06.475978Z"
    }
   },
   "outputs": [],
   "source": [
    "# Gelire Göre en iyi 10 ürün"
   ]
  },
  {
   "cell_type": "code",
   "execution_count": 14,
   "id": "436b34c43d7dd8be",
   "metadata": {},
   "outputs": [],
   "source": [
    "top_revenue_product=df.groupby(\"Product Category\")[\"Total Amount\"].sum().sort_values(ascending=False).head(10)"
   ]
  },
  {
   "cell_type": "code",
   "execution_count": 15,
   "id": "ea19e6f2",
   "metadata": {},
   "outputs": [
    {
     "data": {
      "image/png": "[encoded data removed]",
      "text/plain": [
       "<Figure size 1000x1000 with 1 Axes>"
      ]
     },
     "metadata": {},
     "output_type": "display_data"
    }
   ],
   "source": [
    "top_revenue_product.plot(kind='bar', figsize=(10,10), title='Gelire Göre En iyi 10 ürün')\n",
    "plt.show()"
   ]
  },
  {
   "cell_type": "code",
   "execution_count": 16,
   "id": "1389348e",
   "metadata": {},
   "outputs": [
    {
     "name": "stderr",
     "output_type": "stream",
     "text": [
      "C:\\Users\\htume\\AppData\\Local\\Temp\\ipykernel_1352\\1165269571.py:2: FutureWarning: 'M' is deprecated and will be removed in a future version, please use 'ME' instead.\n",
      "  monthly_sales = df.resample('M', on='Date')['Total Amount'].sum()\n"
     ]
    },
    {
     "data": {
      "image/png": "[encoded data removed]",
      "text/plain": [
       "<Figure size 1200x500 with 1 Axes>"
      ]
     },
     "metadata": {},
     "output_type": "display_data"
    }
   ],
   "source": [
    "#2. Aylık satış trendi\n",
    "monthly_sales = df.resample('M', on='Date')['Total Amount'].sum()\n",
    "monthly_sales.plot(figsize=(12,5), title=\"Aylık Satış Trendi\")\n",
    "plt.show()"
   ]
  },
  {
   "cell_type": "code",
   "execution_count": 17,
   "id": "6069ea17",
   "metadata": {},
   "outputs": [
    {
     "data": {
      "image/png": "[encoded data removed]",
      "text/plain": [
       "<Figure size 1000x500 with 1 Axes>"
      ]
     },
     "metadata": {},
     "output_type": "display_data"
    }
   ],
   "source": [
    "# 3. Haftanın günlerine göre satış\n",
    "df['day_of_week'] = df['Date'].dt.day_name()\n",
    "weekday_sales = df.groupby('day_of_week')['Total Amount'].sum().reindex(\n",
    "    ['Monday','Tuesday','Wednesday','Thursday','Friday','Saturday','Sunday']\n",
    ")\n",
    "weekday_sales.plot(kind='kde', figsize=(10,5), title=\"Haftanın Gününe Göre Satışlar\")\n",
    "plt.show()"
   ]
  },
  {
   "cell_type": "code",
   "execution_count": 18,
   "id": "5ffa3651",
   "metadata": {},
   "outputs": [
    {
     "data": {
      "application/vnd.microsoft.datawrangler.viewer.v0+json": {
       "columns": [
        {
         "name": "index",
         "rawType": "int64",
         "type": "integer"
        },
        {
         "name": "Transaction ID",
         "rawType": "int64",
         "type": "integer"
        },
        {
         "name": "Date",
         "rawType": "datetime64[ns]",
         "type": "datetime"
        },
        {
         "name": "Customer ID",
         "rawType": "object",
         "type": "string"
        },
        {
         "name": "Gender",
         "rawType": "object",
         "type": "string"
        },
        {
         "name": "Age",
         "rawType": "int64",
         "type": "integer"
        },
        {
         "name": "Product Category",
         "rawType": "object",
         "type": "string"
        },
        {
         "name": "Quantity",
         "rawType": "int64",
         "type": "integer"
        },
        {
         "name": "Price per Unit",
         "rawType": "int64",
         "type": "integer"
        },
        {
         "name": "Total Amount",
         "rawType": "int64",
         "type": "integer"
        },
        {
         "name": "day_of_week",
         "rawType": "object",
         "type": "string"
        }
       ],
       "ref": "bef6080d-3694-4803-bc0c-cedb9c7f7bd8",
       "rows": [
        [
         "0",
         "1",
         "2023-11-24 00:00:00",
         "CUST001",
         "Male",
         "34",
         "Beauty",
         "3",
         "50",
         "150",
         "Friday"
        ],
        [
         "1",
         "2",
         "2023-02-27 00:00:00",
         "CUST002",
         "Female",
         "26",
         "Clothing",
         "2",
         "500",
         "1000",
         "Monday"
        ],
        [
         "2",
         "3",
         "2023-01-13 00:00:00",
         "CUST003",
         "Male",
         "50",
         "Electronics",
         "1",
         "30",
         "30",
         "Friday"
        ],
        [
         "3",
         "4",
         "2023-05-21 00:00:00",
         "CUST004",
         "Male",
         "37",
         "Clothing",
         "1",
         "500",
         "500",
         "Sunday"
        ],
        [
         "4",
         "5",
         "2023-05-06 00:00:00",
         "CUST005",
         "Male",
         "30",
         "Beauty",
         "2",
         "50",
         "100",
         "Saturday"
        ]
       ],
       "shape": {
        "columns": 10,
        "rows": 5
       }
      },
      "text/html": [
       "<div>\n",
       "<style scoped>\n",
       "    .dataframe tbody tr th:only-of-type {\n",
       "        vertical-align: middle;\n",
       "    }\n",
       "\n",
       "    .dataframe tbody tr th {\n",
       "        vertical-align: top;\n",
       "    }\n",
       "\n",
       "    .dataframe thead th {\n",
       "        text-align: right;\n",
       "    }\n",
       "</style>\n",
       "<table border=\"1\" class=\"dataframe\">\n",
       "  <thead>\n",
       "    <tr style=\"text-align: right;\">\n",
       "      <th></th>\n",
       "      <th>Transaction ID</th>\n",
       "      <th>Date</th>\n",
       "      <th>Customer ID</th>\n",
       "      <th>Gender</th>\n",
       "      <th>Age</th>\n",
       "      <th>Product Category</th>\n",
       "      <th>Quantity</th>\n",
       "      <th>Price per Unit</th>\n",
       "      <th>Total Amount</th>\n",
       "      <th>day_of_week</th>\n",
       "    </tr>\n",
       "  </thead>\n",
       "  <tbody>\n",
       "    <tr>\n",
       "      <th>0</th>\n",
       "      <td>1</td>\n",
       "      <td>2023-11-24</td>\n",
       "      <td>CUST001</td>\n",
       "      <td>Male</td>\n",
       "      <td>34</td>\n",
       "      <td>Beauty</td>\n",
       "      <td>3</td>\n",
       "      <td>50</td>\n",
       "      <td>150</td>\n",
       "      <td>Friday</td>\n",
       "    </tr>\n",
       "    <tr>\n",
       "      <th>1</th>\n",
       "      <td>2</td>\n",
       "      <td>2023-02-27</td>\n",
       "      <td>CUST002</td>\n",
       "      <td>Female</td>\n",
       "      <td>26</td>\n",
       "      <td>Clothing</td>\n",
       "      <td>2</td>\n",
       "      <td>500</td>\n",
       "      <td>1000</td>\n",
       "      <td>Monday</td>\n",
       "    </tr>\n",
       "    <tr>\n",
       "      <th>2</th>\n",
       "      <td>3</td>\n",
       "      <td>2023-01-13</td>\n",
       "      <td>CUST003</td>\n",
       "      <td>Male</td>\n",
       "      <td>50</td>\n",
       "      <td>Electronics</td>\n",
       "      <td>1</td>\n",
       "      <td>30</td>\n",
       "      <td>30</td>\n",
       "      <td>Friday</td>\n",
       "    </tr>\n",
       "    <tr>\n",
       "      <th>3</th>\n",
       "      <td>4</td>\n",
       "      <td>2023-05-21</td>\n",
       "      <td>CUST004</td>\n",
       "      <td>Male</td>\n",
       "      <td>37</td>\n",
       "      <td>Clothing</td>\n",
       "      <td>1</td>\n",
       "      <td>500</td>\n",
       "      <td>500</td>\n",
       "      <td>Sunday</td>\n",
       "    </tr>\n",
       "    <tr>\n",
       "      <th>4</th>\n",
       "      <td>5</td>\n",
       "      <td>2023-05-06</td>\n",
       "      <td>CUST005</td>\n",
       "      <td>Male</td>\n",
       "      <td>30</td>\n",
       "      <td>Beauty</td>\n",
       "      <td>2</td>\n",
       "      <td>50</td>\n",
       "      <td>100</td>\n",
       "      <td>Saturday</td>\n",
       "    </tr>\n",
       "  </tbody>\n",
       "</table>\n",
       "</div>"
      ],
      "text/plain": [
       "   Transaction ID       Date Customer ID  Gender  Age Product Category  \\\n",
       "0               1 2023-11-24     CUST001    Male   34           Beauty   \n",
       "1               2 2023-02-27     CUST002  Female   26         Clothing   \n",
       "2               3 2023-01-13     CUST003    Male   50      Electronics   \n",
       "3               4 2023-05-21     CUST004    Male   37         Clothing   \n",
       "4               5 2023-05-06     CUST005    Male   30           Beauty   \n",
       "\n",
       "   Quantity  Price per Unit  Total Amount day_of_week  \n",
       "0         3              50           150      Friday  \n",
       "1         2             500          1000      Monday  \n",
       "2         1              30            30      Friday  \n",
       "3         1             500           500      Sunday  \n",
       "4         2              50           100    Saturday  "
      ]
     },
     "execution_count": 18,
     "metadata": {},
     "output_type": "execute_result"
    }
   ],
   "source": [
    "df.head()"
   ]
  },
  {
   "cell_type": "code",
   "execution_count": 19,
   "id": "4c05384f",
   "metadata": {},
   "outputs": [
    {
     "data": {
      "image/png": "[encoded data removed]",
      "text/plain": [
       "<Figure size 1000x1000 with 1 Axes>"
      ]
     },
     "metadata": {},
     "output_type": "display_data"
    }
   ],
   "source": [
    "# 4. En çok alışveriş yapan müşteriler\n",
    "top_customers = df.groupby(\"Customer ID\")['Total Amount'].sum().sort_values(ascending=False).head(10)\n",
    "top_customers.plot(kind='pie', figsize=(10,10), title=\"Gelire Göre İlk 10 Müşteri\")\n",
    "plt.show()"
   ]
  },
  {
   "cell_type": "code",
   "execution_count": 20,
   "id": "9b01ac20",
   "metadata": {},
   "outputs": [
    {
     "data": {
      "image/png": "[encoded data removed]",
      "text/plain": [
       "<Figure size 640x480 with 1 Axes>"
      ]
     },
     "metadata": {},
     "output_type": "display_data"
    }
   ],
   "source": [
    "# 5. Müşteri segmentasyonu\n",
    "df_customer = df.groupby(\"Customer ID\")['Total Amount'].sum().reset_index()\n",
    "df_customer['segment'] = pd.qcut(df_customer['Total Amount'], q=3, labels=['Low','Medium','High'])\n",
    "\n",
    "sns.countplot(x='segment', data=df_customer, order=['Low','Medium','High'])\n",
    "plt.title(\"Müşteri Segmentleri\")\n",
    "plt.show()"
   ]
  },
  {
   "cell_type": "code",
   "execution_count": null,
   "id": "26776ce1",
   "metadata": {},
   "outputs": [],
   "source": []
  }
 ],
 "metadata": {
  "kernelspec": {
   "display_name": "Python 3",
   "language": "python",
   "name": "python3"
  },
  "language_info": {
   "codemirror_mode": {
    "name": "ipython",
    "version": 3
   },
   "file_extension": ".py",
   "mimetype": "text/x-python",
   "name": "python",
   "nbconvert_exporter": "python",
   "pygments_lexer": "ipython3",
   "version": "3.11.9"
  }
 },
 "nbformat": 4,
 "nbformat_minor": 5
}
